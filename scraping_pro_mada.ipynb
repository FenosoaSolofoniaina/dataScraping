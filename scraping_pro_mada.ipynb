{
 "cells": [
  {
   "cell_type": "code",
   "execution_count": 9,
   "metadata": {},
   "outputs": [],
   "source": [
    "import os\n",
    "import string\n",
    "\n",
    "import pandas as pd\n",
    "\n",
    "import requests\n",
    "from bs4 import BeautifulSoup"
   ]
  },
  {
   "cell_type": "code",
   "execution_count": 2,
   "metadata": {},
   "outputs": [],
   "source": [
    "\"\"\" ======================================== \"\"\"\n",
    "def get_enterp_name_from_page(url) :\n",
    "    soup = BeautifulSoup(requests.get(url).text, 'html.parser')\n",
    "    links = soup.find_all('a',\n",
    "                        {\n",
    "                            'itemprop' : 'mainEntityOfPage',\n",
    "                            'rel' : 'bookmark'\n",
    "                        }\n",
    "            )\n",
    "    \n",
    "    enterp_names = [link.text for link in links]\n",
    "\n",
    "    return enterp_names\n",
    "\n",
    "\n",
    "\"\"\" ======================================== \"\"\"\n",
    "def get_enterp_name_from_letter(url) :\n",
    "    enterp_names = []\n",
    "\n",
    "    soup = BeautifulSoup(requests.get(url).text, 'html.parser')\n",
    "    options = soup.find_all('option')\n",
    "    n_options = len(options)\n",
    "\n",
    "    for num_page in range(1, n_options + 1) :\n",
    "        print(f\"\\t Scraping page : {num_page} / {n_options}\")\n",
    "\n",
    "        # type d'URL à fournir : \"http://les-professionnels-de-madagascar.com/category/par-alphabet/a/page/2\"\n",
    "        enterp_names.extend(get_enterp_name_from_page(url + \"/page/\" + str(num_page)))\n",
    "\n",
    "\n",
    "    return enterp_names    \n",
    "\n",
    "\n",
    "\"\"\" ======================================== \"\"\"\n",
    "def scraping(base_url, letter):\n",
    "    all_enterp_names = []\n",
    "    \n",
    "    print(f\"========== Scraping enterprise with letter '{letter}' at the beginning ==========\")\n",
    "    n_enterprises = len(all_enterp_names)\n",
    "\n",
    "    # type d'URL à fournir : \"http://les-professionnels-de-madagascar.com/category/par-alphabet/a\"\n",
    "    all_enterp_names.extend(get_enterp_name_from_letter(base_url + letter))\n",
    "    \n",
    "    print(f\"---> Nombre d'entreprises ajoutées : {len(all_enterp_names) - n_enterprises}\")\n",
    "\n",
    "    return all_enterp_names\n",
    "\n",
    "\n",
    "\"\"\" ======================================== \"\"\"\n",
    "def save_to_excel(list_enterp, path_name) :\n",
    "    df = pd.DataFrame()\n",
    "    \n",
    "    df = pd.concat([df, pd.DataFrame(list_enterp,\n",
    "                                     index=range(1, len(list_enterp) + 1),\n",
    "                                     columns=['Entreprise'])],\n",
    "                   axis=0)\n",
    "    \n",
    "    df.to_excel(\"liste_professionnel_madagascar/entreprises_pro_mada_\" + path_name + \".xlsx\")\n",
    "    print(\"Sauvegarde réussie\")"
   ]
  },
  {
   "cell_type": "code",
   "execution_count": 3,
   "metadata": {},
   "outputs": [],
   "source": [
    "base_url = \"http://les-professionnels-de-madagascar.com/category/par-alphabet/\""
   ]
  },
  {
   "cell_type": "code",
   "execution_count": 4,
   "metadata": {},
   "outputs": [],
   "source": [
    "def main() :\n",
    "    for letter in string.ascii_lowercase :\n",
    "        enterp_names = scraping(base_url, letter)\n",
    "        save_to_excel(enterp_names, f\"alphabet_{letter.upper()}\")"
   ]
  },
  {
   "cell_type": "code",
   "execution_count": 6,
   "metadata": {},
   "outputs": [],
   "source": [
    "# main()"
   ]
  },
  {
   "cell_type": "code",
   "execution_count": 14,
   "metadata": {},
   "outputs": [],
   "source": [
    "def concatenate():\n",
    "    dir_path = os.path.join(os.getcwd(), \"liste_professionnel_madagascar/\")\n",
    "    df = pd.DataFrame()\n",
    "\n",
    "    for letter in string.ascii_uppercase :\n",
    "        data = pd.read_excel(os.path.join(dir_path,\n",
    "                                          f'entreprises_pro_mada_alphabet_{letter}.xlsx'))\n",
    "\n",
    "        df = pd.concat([df, data],\n",
    "                       axis=0)\n",
    "        \n",
    "    df.to_excel('entreprises_professionnels_madagascar.xlsx')"
   ]
  },
  {
   "cell_type": "code",
   "execution_count": 15,
   "metadata": {},
   "outputs": [],
   "source": [
    "# concatenate()"
   ]
  },
  {
   "cell_type": "code",
   "execution_count": null,
   "metadata": {},
   "outputs": [],
   "source": []
  }
 ],
 "metadata": {
  "kernelspec": {
   "display_name": "base",
   "language": "python",
   "name": "python3"
  },
  "language_info": {
   "codemirror_mode": {
    "name": "ipython",
    "version": 3
   },
   "file_extension": ".py",
   "mimetype": "text/x-python",
   "name": "python",
   "nbconvert_exporter": "python",
   "pygments_lexer": "ipython3",
   "version": "3.11.5"
  }
 },
 "nbformat": 4,
 "nbformat_minor": 2
}
