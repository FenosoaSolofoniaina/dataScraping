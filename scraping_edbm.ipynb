{
 "cells": [
  {
   "cell_type": "code",
   "execution_count": null,
   "metadata": {},
   "outputs": [],
   "source": [
    "import re\n",
    "\n",
    "import numpy as np\n",
    "import pandas as pd\n",
    "\n",
    "import requests\n",
    "from bs4 import BeautifulSoup"
   ]
  },
  {
   "cell_type": "code",
   "execution_count": null,
   "metadata": {},
   "outputs": [],
   "source": [
    "\"\"\" =========================================== x ================================================= \"\"\"\n",
    "def get_enterp_data(enterp_link):\n",
    "    soup = BeautifulSoup(requests.get(enterp_link).text, \"html.parser\")\n",
    "\n",
    "    divs = soup.find_all(\"div\", {\n",
    "        \"class\" : re.compile(\"^(wpbdp-field-display wpbdp-field wpbdp-field-value field-display field-value .*)\")\n",
    "        })\n",
    "\n",
    "    enterp_data = {}\n",
    "\n",
    "    for div in divs:\n",
    "        enterp_name = soup.find('h1').text\n",
    "        key = div.find('span').text.split(' :')[0]\n",
    "        value = div.find('div').text\n",
    "\n",
    "        enterp_data['NOM DE LA SOCIETE'] = enterp_name\n",
    "        enterp_data[key] = value\n",
    "\n",
    "    return enterp_data\n",
    "\n",
    "\n",
    "\"\"\" =========================================== x ================================================= \"\"\"\n",
    "def scraping(page_range):\n",
    "    all_enterprises = []\n",
    "\n",
    "    for page_number in page_range :\n",
    "        print(f\"Scraping page : {page_number} / {len(page_range) + min(page_range)}\")\n",
    "    \n",
    "        url = \"https://edbm.mg/entreprise/page/\" + str(page_number) + \"/\"\n",
    "        soup = BeautifulSoup(requests.get(url).text, 'html.parser')\n",
    "\n",
    "        links = soup.find_all('a', {\n",
    "            'href' : re.compile('^(https://edbm.mg/avis-de-constitution/.*)'),\n",
    "            'target' : '_self'\n",
    "        })\n",
    "\n",
    "        for i, link in enumerate(links) :\n",
    "            if i%2==0 :\n",
    "                all_enterprises.append(get_enterp_data(link.attrs['href']))\n",
    "\n",
    "    return all_enterprises\n",
    "\n",
    "\n",
    "\"\"\" =========================================== x ================================================= \"\"\"\n",
    "def to_dataframe(data_enterp):\n",
    "    columns = list(data_enterp[0].keys())\n",
    "    df = pd.DataFrame()\n",
    "    \n",
    "    for index, enterp in enumerate(data_enterp) :            \n",
    "        if len(enterp) == 9 : x = [val for val in enterp.values()]\n",
    "        else : \n",
    "            x = [val for val in enterp.values()]\n",
    "            x.insert(7, np.nan)\n",
    "\n",
    "        x = np.array(x).reshape((1, -1))\n",
    "\n",
    "        df = pd.concat([df, pd.DataFrame(x,\n",
    "                                        index=[index+1],\n",
    "                                        columns=columns)],\n",
    "                        axis=0)\n",
    "        \n",
    "    return df\n",
    "\n",
    "\n",
    "\"\"\" =========================================== x ================================================= \"\"\"\n",
    "def save_to_excel(liste_enterprise, name):\n",
    "    enterp = to_dataframe(liste_enterprise)\n",
    "    print('DataFrame : ', enterp.shape)\n",
    "\n",
    "    enterp.to_excel('enterprise_edbm_' + name + '.xlsx')"
   ]
  },
  {
   "cell_type": "code",
   "execution_count": null,
   "metadata": {},
   "outputs": [],
   "source": [
    "total_pages = 647\n",
    "\n",
    "n1_pages = range(1, 100)\n",
    "n2_pages = range(100, 200)\n",
    "n3_pages = range(200, 300)\n",
    "n4_pages = range(300, 400)\n",
    "n5_pages = range(400, 500)\n",
    "n6_pages = range(500, 600)\n",
    "n6_pages = range(600, 645)\n",
    "n7_pages = range(645, total_pages+1)"
   ]
  },
  {
   "cell_type": "code",
   "execution_count": null,
   "metadata": {},
   "outputs": [],
   "source": [
    "# liste_1_enterprises = scraping(n1_pages)\n",
    "# save_to_excel(liste_1_enterprises, 'liste_1')"
   ]
  },
  {
   "cell_type": "code",
   "execution_count": null,
   "metadata": {},
   "outputs": [],
   "source": [
    "# liste_2_enterprises = scraping(n2_pages)\n",
    "# save_to_excel(liste_2_enterprises, 'liste_2')"
   ]
  },
  {
   "cell_type": "code",
   "execution_count": null,
   "metadata": {},
   "outputs": [],
   "source": [
    "# liste_3_enterprises = scraping(n3_pages)\n",
    "# save_to_excel(liste_3_enterprises, 'liste_3')"
   ]
  },
  {
   "cell_type": "code",
   "execution_count": null,
   "metadata": {},
   "outputs": [],
   "source": [
    "# liste_4_enterprises = scraping(n4_pages)\n",
    "# save_to_excel(liste_4_enterprises, 'liste_4')"
   ]
  },
  {
   "cell_type": "code",
   "execution_count": null,
   "metadata": {},
   "outputs": [],
   "source": [
    "# liste_5_enterprises = scraping(n5_pages)\n",
    "# save_to_excel(liste_5_enterprises, 'liste_5')"
   ]
  },
  {
   "cell_type": "code",
   "execution_count": null,
   "metadata": {},
   "outputs": [],
   "source": [
    "# liste_6_enterprises = scraping(n6_pages)\n",
    "# save_to_excel(liste_6_enterprises, 'liste_6')"
   ]
  },
  {
   "cell_type": "code",
   "execution_count": null,
   "metadata": {},
   "outputs": [],
   "source": [
    "# liste_7_enterprises = scraping(n7_pages)\n",
    "\n",
    "# liste_7 = []\n",
    "# for li in liste_7_enterprises : \n",
    "#     if len(li)==9: liste_7.append(li)\n",
    "\n",
    "# save_to_excel(liste_7, 'liste_7')"
   ]
  },
  {
   "cell_type": "code",
   "execution_count": null,
   "metadata": {},
   "outputs": [],
   "source": [
    "\"\"\" =========================================== x ================================================= \"\"\"\n",
    "def to_df(data_enterp):\n",
    "    columns = list(data_enterp[0].keys())\n",
    "    df = pd.DataFrame()\n",
    "    \n",
    "    for index, enterp in enumerate(data_enterp) :\n",
    "        x = [val for val in enterp.values()]\n",
    "        x = np.array(x).reshape((1, -1))\n",
    "\n",
    "        df = pd.concat([df, pd.DataFrame(x,\n",
    "                                        index=[index+1],\n",
    "                                        columns=columns)],\n",
    "                        axis=0)\n",
    "        \n",
    "    return df\n",
    "\n",
    "\n",
    "\"\"\" =========================================== x ================================================= \"\"\"\n",
    "def save_excel(liste_enterprise, name):\n",
    "    enterp = to_df(liste_enterprise)\n",
    "    print('DataFrame : ', enterp.shape)\n",
    "\n",
    "    enterp.to_excel('enterprise_edbm_' + name + '.xlsx')"
   ]
  },
  {
   "cell_type": "code",
   "execution_count": null,
   "metadata": {},
   "outputs": [],
   "source": [
    "\n",
    "# reste_liste_7 = []\n",
    "# for li in liste_7_enterprises : \n",
    "#     if len(li)!=9: reste_liste_7.append(li)\n",
    "# save_excel(reste_liste_7[:-1], 'liste_7')"
   ]
  },
  {
   "cell_type": "code",
   "execution_count": null,
   "metadata": {},
   "outputs": [],
   "source": [
    "def last_list() :\n",
    "    data = reste_liste_7[-1]\n",
    "    columns = data.keys()\n",
    "    df = pd.DataFrame()\n",
    "\n",
    "    \n",
    "    x = [val for val in data.values()]\n",
    "    x = np.array(x).reshape((1, -1))\n",
    "\n",
    "    df = pd.concat([df, pd.DataFrame(x,\n",
    "                                     columns=columns,\n",
    "                                     index=[1])],\n",
    "                   axis=0)\n",
    "    \n",
    "    df.to_excel('entreprises_edbm_last_list.xlsx')"
   ]
  },
  {
   "cell_type": "code",
   "execution_count": null,
   "metadata": {},
   "outputs": [],
   "source": [
    "# last_list()"
   ]
  },
  {
   "cell_type": "code",
   "execution_count": null,
   "metadata": {},
   "outputs": [],
   "source": [
    "# all_enterprise_list = [\n",
    "#     'enterprise_edbm_liste_1.xlsx',\n",
    "#     'enterprise_edbm_liste_2.xlsx',\n",
    "#     'enterprise_edbm_liste_3.xlsx',\n",
    "#     'enterprise_edbm_liste_4.xlsx',\n",
    "#     'enterprise_edbm_liste_5.xlsx',\n",
    "#     'enterprise_edbm_liste_6.xlsx',\n",
    "#     'enterprise_edbm_liste_7.xlsx',\n",
    "#     'entreprises_edbm_last_list.xlsx'\n",
    "# ]"
   ]
  },
  {
   "cell_type": "code",
   "execution_count": null,
   "metadata": {},
   "outputs": [],
   "source": [
    "def assembly_list() :\n",
    "    df = pd.DataFrame()\n",
    "    \n",
    "    for enterp_path in all_enterprise_list :\n",
    "        enterp = pd.read_excel(enterp_path)\n",
    "\n",
    "        df = pd.concat([df, enterp],\n",
    "                       axis=0)\n",
    "        \n",
    "\n",
    "    return df"
   ]
  },
  {
   "cell_type": "code",
   "execution_count": null,
   "metadata": {},
   "outputs": [],
   "source": [
    "# definitive_list = assembly_list()"
   ]
  },
  {
   "cell_type": "code",
   "execution_count": null,
   "metadata": {},
   "outputs": [],
   "source": [
    "# definitive_list.to_csv('entreprises_edbm.csv', sep=',')"
   ]
  },
  {
   "cell_type": "code",
   "execution_count": null,
   "metadata": {},
   "outputs": [],
   "source": []
  }
 ],
 "metadata": {
  "kernelspec": {
   "display_name": "base",
   "language": "python",
   "name": "python3"
  },
  "language_info": {
   "codemirror_mode": {
    "name": "ipython",
    "version": 3
   },
   "file_extension": ".py",
   "mimetype": "text/x-python",
   "name": "python",
   "nbconvert_exporter": "python",
   "pygments_lexer": "ipython3",
   "version": "3.11.5"
  }
 },
 "nbformat": 4,
 "nbformat_minor": 2
}
